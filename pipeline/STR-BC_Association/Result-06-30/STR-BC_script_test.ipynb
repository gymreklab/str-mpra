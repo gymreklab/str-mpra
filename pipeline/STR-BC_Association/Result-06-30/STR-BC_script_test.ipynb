{
 "cells": [
  {
   "cell_type": "markdown",
   "id": "3f6c4a47",
   "metadata": {},
   "source": [
    "## Test result of STR-BC_read_processing.py"
   ]
  },
  {
   "cell_type": "code",
   "execution_count": 1,
   "id": "0e4433d3",
   "metadata": {},
   "outputs": [
    {
     "name": "stdout",
     "output_type": "stream",
     "text": [
      "usage: STR-BC_read_processing.py [-h] --read1 READ1 --read2 READ2 --filetype\r\n",
      "                                 {fasta.gz,fastq.gz,fasta,fastq,fa,fq}\r\n",
      "                                 --bwaref BWAREF --outdir OUTDIR\r\n",
      "                                 [--R1_match R1_MATCH] [--R1_thres R1_THRES]\r\n",
      "                                 [--R2_match R2_MATCH] [--R2_thres R2_THRES]\r\n",
      "STR-BC_read_processing.py: error: the following arguments are required: --read1, --read2, --filetype, --bwaref, --outdir\r\n"
     ]
    }
   ],
   "source": [
    "! /storage/q5gong/MPRA-Susan/STR-BC_Association_Scripts/STR-BC_read_processing.py"
   ]
  },
  {
   "cell_type": "code",
   "execution_count": 2,
   "id": "d3bd168b",
   "metadata": {},
   "outputs": [
    {
     "name": "stdout",
     "output_type": "stream",
     "text": [
      "3483 reads are filtered from 238444 reads of R1, with a levenshtein matching length of 5 and threshold of 0, resulting in 234961 reads\n",
      "writing filtered read 1 to /storage/q5gong/MPRA-Susan/pipeline_testing/STR-BC-association/script_test/R1_lev5thres0.fastq.gz\n",
      "\n",
      "6259 reads are filtered from 238444 reads of R2, with a levenshtein matching length of 16 and threshold of 0, resulting in 232185 reads\n",
      "writing filtered read 2 to /storage/q5gong/MPRA-Susan/pipeline_testing/STR-BC-association/script_test/R2_lev16thres0.fastq.gz\n",
      "\n",
      "start aligning read 2 to /storage/q5gong/MPRA-Susan/pipeline_testing/STR-BC-association/script_test/array_probes_human_fullprobe_151bp.fa\n",
      "[M::bwa_idx_load_from_disk] read 0 ALT contigs\n",
      "[M::process] read 232185 sequences (35059935 bp)...\n",
      "[M::mem_process_seqs] Processed 232185 reads in 526.016 CPU sec, 87.698 real sec\n",
      "[main] Version: 0.7.12-r1039\n",
      "[main] CMD: bwa mem -t 6 -L 100 -k 8 -O 5 /storage/q5gong/MPRA-Susan/pipeline_testing/STR-BC-association/script_test/array_probes_human_fullprobe_151bp.fa /storage/q5gong/MPRA-Susan/pipeline_testing/STR-BC-association/script_test/R2_lev16thres0.fastq.gz\n",
      "[main] Real time: 95.557 sec; CPU: 527.386 sec\n",
      "alignment done\n",
      "\n",
      "start processing aligning read 2\n",
      "read processing done\n"
     ]
    }
   ],
   "source": [
    "! /storage/q5gong/MPRA-Susan/STR-BC_Association_Scripts/STR-BC_read_processing.py \\\n",
    "    --read1 /storage/q5gong/MPRA-Susan/lz0504/lz_S16_L001_R1_001.fastq.gz \\\n",
    "    --read2 /storage/q5gong/MPRA-Susan/lz0504/lz_S16_L001_R2_001.fastq.gz \\\n",
    "    --filetype fastq.gz \\\n",
    "    --bwaref /storage/q5gong/MPRA-Susan/pipeline_testing/STR-BC-association/script_test/array_probes_human_fullprobe_151bp.fa \\\n",
    "    --outdir /storage/q5gong/MPRA-Susan/pipeline_testing/STR-BC-association/script_test/ \\\n",
    "    --R1_match 5 \\\n",
    "    --R1_thres 0 \\\n",
    "    --R2_match 16 \\\n",
    "    --R2_thres 0 \\\n",
    "\n"
   ]
  },
  {
   "cell_type": "code",
   "execution_count": 3,
   "id": "2829aeaa",
   "metadata": {},
   "outputs": [
    {
     "name": "stdout",
     "output_type": "stream",
     "text": [
      "same\r\n"
     ]
    }
   ],
   "source": [
    "# processed read 1\n",
    "! diff -q <(zcat /storage/q5gong/MPRA-Susan/pipeline_testing/STR-BC-association/ipynb_test/R1_lev5thres0.fastq.gz) \\\n",
    "          <(zcat /storage/q5gong/MPRA-Susan/pipeline_testing/STR-BC-association/script_test/R1_lev5thres0.fastq.gz) \\\n",
    "    && echo same || echo not_same"
   ]
  },
  {
   "cell_type": "code",
   "execution_count": 4,
   "id": "4ebb35f2",
   "metadata": {},
   "outputs": [
    {
     "name": "stdout",
     "output_type": "stream",
     "text": [
      "same\r\n"
     ]
    }
   ],
   "source": [
    "# processed read 2\n",
    "! diff -q <(zcat /storage/q5gong/MPRA-Susan/pipeline_testing/STR-BC-association/ipynb_test/R2_lev16thres0.fastq.gz) \\\n",
    "          <(zcat /storage/q5gong/MPRA-Susan/pipeline_testing/STR-BC-association/script_test/R2_lev16thres0.fastq.gz) \\\n",
    "    && echo same || echo not_same"
   ]
  },
  {
   "cell_type": "code",
   "execution_count": 5,
   "id": "d3ef092a",
   "metadata": {},
   "outputs": [
    {
     "name": "stdout",
     "output_type": "stream",
     "text": [
      "same\r\n"
     ]
    }
   ],
   "source": [
    "# processed tsv\n",
    "! diff -q <(cat /storage/q5gong/MPRA-Susan/pipeline_testing/STR-BC-association/ipynb_test/R2_lev16thres0.tsv) \\\n",
    "          <(cat /storage/q5gong/MPRA-Susan/pipeline_testing/STR-BC-association/script_test/R2_lev16thres0.tsv) \\\n",
    "    && echo same || echo not_same"
   ]
  },
  {
   "cell_type": "markdown",
   "id": "3cd921da",
   "metadata": {},
   "source": [
    "## Test result of STR-BC_Association.py"
   ]
  },
  {
   "cell_type": "code",
   "execution_count": 6,
   "id": "976fb50a",
   "metadata": {},
   "outputs": [
    {
     "name": "stdout",
     "output_type": "stream",
     "text": [
      "usage: STR-BC_Association.py [-h] --filtR1 FILTR1 --tsvR2 TSVR2 --outdir\r\n",
      "                             OUTDIR --lenR1 LENR1 --lenR2 LENR2 --occurrence\r\n",
      "                             OCCURRENCE [--occurCount OCCURCOUNT]\r\n",
      "                             [--multiBC MULTIBC]\r\n",
      "STR-BC_Association.py: error: the following arguments are required: --filtR1, --tsvR2, --outdir, --lenR1, --lenR2, --occurrence\r\n"
     ]
    }
   ],
   "source": [
    "! /storage/q5gong/MPRA-Susan/STR-BC_Association_Scripts/STR-BC_Association.py"
   ]
  },
  {
   "cell_type": "code",
   "execution_count": 9,
   "id": "734c2db3",
   "metadata": {},
   "outputs": [
    {
     "name": "stdout",
     "output_type": "stream",
     "text": [
      "Out of 245325 read 2, 13378 reads that are either less than 151bp and/or does not find a matching STR are filtered \n",
      "\n",
      "Among 231947 read2s, 84851 have a perfect cigar score, and 112857 fail to pass the cigar filter, the final number of read2 remains are 119090 \n",
      "\n",
      "Out of 119090 read2s, 1684 of the reads does not have a read1 with the same read_id\n",
      "\n",
      "1161 unique barcodes are found to be associated with multiple STRs\n",
      "remove such barcode \n",
      "\n",
      "0 unique STR-BC pair is found to occur less than 1\n",
      "remove such STR-BC pair \n",
      "\n",
      "The maximum barcode associate with a unique STR is 16, and there are 1 such unique STR, the minimum barcode associate with a unique STR is 1, and there are 21794 such unique STR \n",
      "\n",
      "start writing association.tsv\n",
      "59595 unique barcode is matched to 36128 unique STR \n",
      "\n"
     ]
    }
   ],
   "source": [
    "! /storage/q5gong/MPRA-Susan/STR-BC_Association_Scripts/STR-BC_Association.py \\\n",
    "    --filtR1 /storage/q5gong/MPRA-Susan/pipeline_testing/STR-BC-association/script_test/R1_lev5thres0.fastq.gz \\\n",
    "    --tsvR2 /storage/q5gong/MPRA-Susan/pipeline_testing/STR-BC-association/script_test/R2_lev16thres0.tsv \\\n",
    "    --outdir /storage/q5gong/MPRA-Susan/pipeline_testing/STR-BC-association/script_test/ \\\n",
    "    --lenR1 151 \\\n",
    "    --lenR2 151 \\\n",
    "    --occurrence 1 \\"
   ]
  },
  {
   "cell_type": "code",
   "execution_count": 10,
   "id": "75ef3988",
   "metadata": {},
   "outputs": [
    {
     "name": "stdout",
     "output_type": "stream",
     "text": [
      "same\r\n"
     ]
    }
   ],
   "source": [
    "# association tsv\n",
    "! diff -q <(cat /storage/q5gong/MPRA-Susan/pipeline_testing/STR-BC-association/ipynb_test/association.tsv) \\\n",
    "          <(cat /storage/q5gong/MPRA-Susan/pipeline_testing/STR-BC-association/script_test/association.tsv) \\\n",
    "    && echo same || echo not_same"
   ]
  },
  {
   "cell_type": "code",
   "execution_count": null,
   "id": "ca5f362f",
   "metadata": {},
   "outputs": [],
   "source": []
  }
 ],
 "metadata": {
  "kernelspec": {
   "display_name": "Python 3 (ipykernel)",
   "language": "python",
   "name": "python3"
  },
  "language_info": {
   "codemirror_mode": {
    "name": "ipython",
    "version": 3
   },
   "file_extension": ".py",
   "mimetype": "text/x-python",
   "name": "python",
   "nbconvert_exporter": "python",
   "pygments_lexer": "ipython3",
   "version": "3.9.7"
  }
 },
 "nbformat": 4,
 "nbformat_minor": 5
}
