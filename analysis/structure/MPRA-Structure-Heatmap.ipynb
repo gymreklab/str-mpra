{
 "cells": [
  {
   "cell_type": "code",
   "execution_count": 4,
   "id": "b26e37b7-1eb2-4211-b8e4-9b90de63737b",
   "metadata": {},
   "outputs": [
    {
     "name": "stdout",
     "output_type": "stream",
     "text": [
      "%pylab is deprecated, use %matplotlib inline and import the required libraries.\n",
      "Populating the interactive namespace from numpy and matplotlib\n"
     ]
    },
    {
     "data": {
      "text/html": [
       "<div>\n",
       "<style scoped>\n",
       "    .dataframe tbody tr th:only-of-type {\n",
       "        vertical-align: middle;\n",
       "    }\n",
       "\n",
       "    .dataframe tbody tr th {\n",
       "        vertical-align: top;\n",
       "    }\n",
       "\n",
       "    .dataframe thead th {\n",
       "        text-align: right;\n",
       "    }\n",
       "</style>\n",
       "<table border=\"1\" class=\"dataframe\">\n",
       "  <thead>\n",
       "    <tr style=\"text-align: right;\">\n",
       "      <th></th>\n",
       "      <th>rpt_class</th>\n",
       "      <th>pair</th>\n",
       "      <th>correlation</th>\n",
       "      <th>p_value</th>\n",
       "      <th>allele_num</th>\n",
       "    </tr>\n",
       "  </thead>\n",
       "  <tbody>\n",
       "    <tr>\n",
       "      <th>0</th>\n",
       "      <td>A</td>\n",
       "      <td>exp_raw~mfold_DNA_raw</td>\n",
       "      <td>-0.045270</td>\n",
       "      <td>1.977861e-02</td>\n",
       "      <td>2650</td>\n",
       "    </tr>\n",
       "    <tr>\n",
       "      <th>1</th>\n",
       "      <td>AAAAAC</td>\n",
       "      <td>exp_raw~mfold_DNA_raw</td>\n",
       "      <td>0.148067</td>\n",
       "      <td>4.729647e-02</td>\n",
       "      <td>180</td>\n",
       "    </tr>\n",
       "    <tr>\n",
       "      <th>2</th>\n",
       "      <td>AAAAC</td>\n",
       "      <td>exp_raw~mfold_DNA_raw</td>\n",
       "      <td>-0.349240</td>\n",
       "      <td>1.251416e-12</td>\n",
       "      <td>390</td>\n",
       "    </tr>\n",
       "    <tr>\n",
       "      <th>3</th>\n",
       "      <td>AAAAG</td>\n",
       "      <td>exp_raw~mfold_DNA_raw</td>\n",
       "      <td>0.153942</td>\n",
       "      <td>3.908603e-02</td>\n",
       "      <td>180</td>\n",
       "    </tr>\n",
       "    <tr>\n",
       "      <th>4</th>\n",
       "      <td>AAAC</td>\n",
       "      <td>exp_raw~mfold_DNA_raw</td>\n",
       "      <td>-0.078457</td>\n",
       "      <td>1.058669e-07</td>\n",
       "      <td>4580</td>\n",
       "    </tr>\n",
       "  </tbody>\n",
       "</table>\n",
       "</div>"
      ],
      "text/plain": [
       "  rpt_class                   pair  correlation       p_value  allele_num\n",
       "0         A  exp_raw~mfold_DNA_raw    -0.045270  1.977861e-02        2650\n",
       "1    AAAAAC  exp_raw~mfold_DNA_raw     0.148067  4.729647e-02         180\n",
       "2     AAAAC  exp_raw~mfold_DNA_raw    -0.349240  1.251416e-12         390\n",
       "3     AAAAG  exp_raw~mfold_DNA_raw     0.153942  3.908603e-02         180\n",
       "4      AAAC  exp_raw~mfold_DNA_raw    -0.078457  1.058669e-07        4580"
      ]
     },
     "execution_count": 4,
     "metadata": {},
     "output_type": "execute_result"
    }
   ],
   "source": [
    "import matplotlib\n",
    "matplotlib.rcParams['pdf.fonttype'] = 42\n",
    "matplotlib.rcParams['ps.fonttype'] = 42\n",
    "\n",
    "%pylab inline\n",
    "import pandas as pd\n",
    "\n",
    "data = pd.read_csv(\"structure_features_corr_all.csv\")\n",
    "data.head()"
   ]
  },
  {
   "cell_type": "code",
   "execution_count": null,
   "id": "1d807614-2d51-4c19-9946-15900b96e23a",
   "metadata": {},
   "outputs": [],
   "source": []
  }
 ],
 "metadata": {
  "kernelspec": {
   "display_name": "Python 3 (ipykernel)",
   "language": "python",
   "name": "python3"
  },
  "language_info": {
   "codemirror_mode": {
    "name": "ipython",
    "version": 3
   },
   "file_extension": ".py",
   "mimetype": "text/x-python",
   "name": "python",
   "nbconvert_exporter": "python",
   "pygments_lexer": "ipython3",
   "version": "3.11.5"
  }
 },
 "nbformat": 4,
 "nbformat_minor": 5
}
